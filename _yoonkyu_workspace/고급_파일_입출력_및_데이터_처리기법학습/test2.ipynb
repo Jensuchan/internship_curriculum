{
 "cells": [
  {
   "cell_type": "markdown",
   "metadata": {},
   "source": [
    "고급 파일 입출력 및 데이터 처리"
   ]
  },
  {
   "cell_type": "code",
   "execution_count": 54,
   "metadata": {},
   "outputs": [
    {
     "name": "stdout",
     "output_type": "stream",
     "text": [
      "    Feature        Mean     Median\n",
      "0      CRIM    3.659998    0.24522\n",
      "1        ZN   11.165934    0.00000\n",
      "2     INDUS   11.092747    9.69000\n",
      "3      CHAS    0.065934    0.00000\n",
      "4       NOX    0.555160    0.53800\n",
      "5        RM    6.285352    6.20800\n",
      "6       AGE   68.320440   76.70000\n",
      "7       DIS    3.788439    3.19920\n",
      "8       RAD    9.551648    5.00000\n",
      "9       TAX  407.892308  330.00000\n",
      "10  PTRATIO   18.453846   19.00000\n",
      "11        B  356.285714  391.70000\n",
      "12    LSTAT   12.604967   11.28000\n",
      "13     MEDV   22.574725   21.20000\n"
     ]
    }
   ],
   "source": [
    "import pandas as pd\n",
    "\n",
    "file_path = 'train.csv'\n",
    "\n",
    "try:\n",
    "    df = pd.read_csv(file_path, encoding=\"utf-8\")\n",
    "\n",
    "    cols = df.select_dtypes(include=['number'])\n",
    "    mean_values = cols.apply(lambda x: x.mean())\n",
    "    median_values = cols.apply(lambda x: x.median())\n",
    "\n",
    "    mean_df = mean_values.reset_index()\n",
    "    median_df = median_values.reset_index()\n",
    "\n",
    "    mean_df.columns = ['Feature', 'Mean']\n",
    "    median_df.columns = ['Feature', 'Median']\n",
    "\n",
    "    result_df = pd.concat([mean_df, median_df['Median']], axis=1)\n",
    "\n",
    "    print(result_df)\n",
    "\n",
    "except FileNotFoundError:\n",
    "    print(\"The file {} was not found.\".format(file_path))\n",
    "except UnicodeDecodeError:\n",
    "    print(\"Error decoding {}. Try a different encdoing\".format(file_path))\n",
    "except Exception as e:\n",
    "    print(\"An upexpected error occurred: {}\".format(e))"
   ]
  },
  {
   "cell_type": "code",
   "execution_count": null,
   "metadata": {},
   "outputs": [],
   "source": []
  },
  {
   "cell_type": "code",
   "execution_count": null,
   "metadata": {},
   "outputs": [],
   "source": []
  },
  {
   "cell_type": "code",
   "execution_count": null,
   "metadata": {},
   "outputs": [],
   "source": []
  }
 ],
 "metadata": {
  "kernelspec": {
   "display_name": "Python 3",
   "language": "python",
   "name": "python3"
  },
  "language_info": {
   "codemirror_mode": {
    "name": "ipython",
    "version": 3
   },
   "file_extension": ".py",
   "mimetype": "text/x-python",
   "name": "python",
   "nbconvert_exporter": "python",
   "pygments_lexer": "ipython3",
   "version": "3.11.8"
  }
 },
 "nbformat": 4,
 "nbformat_minor": 2
}
